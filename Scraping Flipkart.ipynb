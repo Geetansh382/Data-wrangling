{
 "cells": [
  {
   "cell_type": "markdown",
   "id": "8d348052",
   "metadata": {},
   "source": [
    "## Scraping Flipkart for powerbanks"
   ]
  },
  {
   "cell_type": "markdown",
   "id": "994bc80e",
   "metadata": {},
   "source": [
    "### Importing libraries"
   ]
  },
  {
   "cell_type": "code",
   "execution_count": 25,
   "id": "d93cfce1",
   "metadata": {},
   "outputs": [],
   "source": [
    "from bs4 import BeautifulSoup\n",
    "import csv\n",
    "import requests\n",
    "import pandas as pd"
   ]
  },
  {
   "cell_type": "markdown",
   "id": "a6208b83",
   "metadata": {},
   "source": [
    "#### Provide an input for the pages, and the data will be saved in a csv file"
   ]
  },
  {
   "cell_type": "code",
   "execution_count": 57,
   "id": "44856410",
   "metadata": {},
   "outputs": [
    {
     "name": "stdout",
     "output_type": "stream",
     "text": [
      "Enter the number of pages: 3\n"
     ]
    },
    {
     "data": {
      "text/html": [
       "<div>\n",
       "<style scoped>\n",
       "    .dataframe tbody tr th:only-of-type {\n",
       "        vertical-align: middle;\n",
       "    }\n",
       "\n",
       "    .dataframe tbody tr th {\n",
       "        vertical-align: top;\n",
       "    }\n",
       "\n",
       "    .dataframe thead th {\n",
       "        text-align: right;\n",
       "    }\n",
       "</style>\n",
       "<table border=\"1\" class=\"dataframe\">\n",
       "  <thead>\n",
       "    <tr style=\"text-align: right;\">\n",
       "      <th></th>\n",
       "      <th>Product Name</th>\n",
       "      <th>Prices</th>\n",
       "      <th>Rating</th>\n",
       "    </tr>\n",
       "  </thead>\n",
       "  <tbody>\n",
       "    <tr>\n",
       "      <th>0</th>\n",
       "      <td>Mi 3i 10000 mAh Power Bank (Fast Charging, 18W)</td>\n",
       "      <td>₹999</td>\n",
       "      <td>4.3</td>\n",
       "    </tr>\n",
       "    <tr>\n",
       "      <th>1</th>\n",
       "      <td>Mi 3i 10000 mAh Power Bank (Fast Charging, 18W)</td>\n",
       "      <td>₹999</td>\n",
       "      <td>4.3</td>\n",
       "    </tr>\n",
       "    <tr>\n",
       "      <th>2</th>\n",
       "      <td>Mi 3i 20000 mAh Power Bank (Fast Charging, 18W)</td>\n",
       "      <td>₹1,799</td>\n",
       "      <td>4.3</td>\n",
       "    </tr>\n",
       "    <tr>\n",
       "      <th>3</th>\n",
       "      <td>Ambrane 10000 mAh Power Bank (12 W, Fast Charg...</td>\n",
       "      <td>₹699</td>\n",
       "      <td>4.2</td>\n",
       "    </tr>\n",
       "    <tr>\n",
       "      <th>4</th>\n",
       "      <td>conekt 10000 mAh Power Bank (12 W, Fast Charging)</td>\n",
       "      <td>₹549</td>\n",
       "      <td>4</td>\n",
       "    </tr>\n",
       "    <tr>\n",
       "      <th>...</th>\n",
       "      <td>...</td>\n",
       "      <td>...</td>\n",
       "      <td>...</td>\n",
       "    </tr>\n",
       "    <tr>\n",
       "      <th>115</th>\n",
       "      <td>MITILU GADGET 20000 mAh Power Bank (Fast Charg...</td>\n",
       "      <td>₹599</td>\n",
       "      <td>Null</td>\n",
       "    </tr>\n",
       "    <tr>\n",
       "      <th>116</th>\n",
       "      <td>PoMiFi 10400 Power Bank</td>\n",
       "      <td>₹549</td>\n",
       "      <td>3.4</td>\n",
       "    </tr>\n",
       "    <tr>\n",
       "      <th>117</th>\n",
       "      <td>Pomics 30000 mAh Power Bank</td>\n",
       "      <td>₹619</td>\n",
       "      <td>3.4</td>\n",
       "    </tr>\n",
       "    <tr>\n",
       "      <th>118</th>\n",
       "      <td>Iqoniqe 35000 mAh Power Bank</td>\n",
       "      <td>₹599</td>\n",
       "      <td>2.5</td>\n",
       "    </tr>\n",
       "    <tr>\n",
       "      <th>119</th>\n",
       "      <td>Pomics 30000 mAh Power Bank</td>\n",
       "      <td>₹619</td>\n",
       "      <td>3.4</td>\n",
       "    </tr>\n",
       "  </tbody>\n",
       "</table>\n",
       "<p>120 rows × 3 columns</p>\n",
       "</div>"
      ],
      "text/plain": [
       "                                          Product Name  Prices Rating\n",
       "0      Mi 3i 10000 mAh Power Bank (Fast Charging, 18W)    ₹999    4.3\n",
       "1      Mi 3i 10000 mAh Power Bank (Fast Charging, 18W)    ₹999    4.3\n",
       "2      Mi 3i 20000 mAh Power Bank (Fast Charging, 18W)  ₹1,799    4.3\n",
       "3    Ambrane 10000 mAh Power Bank (12 W, Fast Charg...    ₹699    4.2\n",
       "4    conekt 10000 mAh Power Bank (12 W, Fast Charging)    ₹549      4\n",
       "..                                                 ...     ...    ...\n",
       "115  MITILU GADGET 20000 mAh Power Bank (Fast Charg...    ₹599   Null\n",
       "116                            PoMiFi 10400 Power Bank    ₹549    3.4\n",
       "117                        Pomics 30000 mAh Power Bank    ₹619    3.4\n",
       "118                       Iqoniqe 35000 mAh Power Bank    ₹599    2.5\n",
       "119                        Pomics 30000 mAh Power Bank    ₹619    3.4\n",
       "\n",
       "[120 rows x 3 columns]"
      ]
     },
     "execution_count": 57,
     "metadata": {},
     "output_type": "execute_result"
    }
   ],
   "source": [
    "titles = []\n",
    "prices = []\n",
    "ratings = []\n",
    "    \n",
    "page_num = input('Enter the number of pages: ')    \n",
    "for i in range(1,int(page_num) + 1):   \n",
    "    \n",
    "    \n",
    "    url = 'https://www.flipkart.com/mobile-accessories/power-banks/pr?sid=tyy%2C4mr%2Cfu6&otracker=categorytree&otracker=nmenu_sub_Electronics_0_Power+Banks&fm=neo%2Fmerchandising&iid=M_4b93b5a1-3307-4504-b374-ec74a9f8b044_1_372UD5BXDFYS_MC.SUDNEM7MT757&otracker=hp_rich_navigation_10_1.navigationCard.RICH_NAVIGATION_Electronics%7EPowerbank_SUDNEM7MT757&otracker1=hp_rich_navigation_PINNED_neo%2Fmerchandising_NA_NAV_EXPANDABLE_navigationCard_cc_10_L1_view-all&cid=SUDNEM7MT757&page=' + str(i)\n",
    "    headers = {\"User-Agent\": \"Mozilla/5.0 (Windows NT 10.0; Win64; x64) AppleWebKit/537.36 (KHTML, like Gecko) Chrome/103.0.0.0 Safari/537.36\", \n",
    "        \"X-Amzn-Trace-Id\": \"Root=1-62c73655-7e7e99d56857270b5d106dd9\"}\n",
    "\n",
    "    page = requests .get(url, headers = headers)\n",
    "\n",
    "    soup = BeautifulSoup(page.content,\"html.parser\")\n",
    "    soup1 = soup.prettify()\n",
    "               \n",
    "    \n",
    "\n",
    "    for a in soup.findAll('div',attrs = {'class':'_4ddWXP'}):\n",
    "        title = a.find(\"a\", {\"class\" : \"s1Q9rs\"})\n",
    "        price = a.find(\"div\", {\"class\" : \"_30jeq3\"})\n",
    "        rating = a.find(\"div\",{\"class\" : \"_3LWZlK\"})\n",
    "        if rating is None:\n",
    "            ratings.append('Null')\n",
    "        else:\n",
    "            ratings.append(rating.text)\n",
    "        titles.append(title.text)\n",
    "        prices.append(price.text)\n",
    "        \n",
    "        \n",
    "        \n",
    "df = pd.DataFrame({\"Product Name\": titles, 'Prices': prices, 'Rating': ratings})\n",
    "df\n",
    "df.to_csv('powerbanks.csv')"
   ]
  },
  {
   "cell_type": "code",
   "execution_count": null,
   "id": "074a97f8",
   "metadata": {},
   "outputs": [],
   "source": []
  }
 ],
 "metadata": {
  "kernelspec": {
   "display_name": "Python 3 (ipykernel)",
   "language": "python",
   "name": "python3"
  },
  "language_info": {
   "codemirror_mode": {
    "name": "ipython",
    "version": 3
   },
   "file_extension": ".py",
   "mimetype": "text/x-python",
   "name": "python",
   "nbconvert_exporter": "python",
   "pygments_lexer": "ipython3",
   "version": "3.9.7"
  }
 },
 "nbformat": 4,
 "nbformat_minor": 5
}
